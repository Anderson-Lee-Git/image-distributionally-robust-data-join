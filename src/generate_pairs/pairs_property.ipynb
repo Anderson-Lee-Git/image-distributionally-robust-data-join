{
 "cells": [
  {
   "cell_type": "code",
   "execution_count": 1,
   "metadata": {},
   "outputs": [
    {
     "name": "stdout",
     "output_type": "stream",
     "text": [
      "150873\n",
      "0.9783526542191114\n",
      "0.9334871050486171\n",
      "0.913490153970558\n"
     ]
    }
   ],
   "source": [
    "import pandas as pd\n",
    "from tqdm import tqdm\n",
    "\n",
    "path = \"/gscratch/jamiemmt/andersonlee/bias-mitigation/drdj/pairs/celebA_md.csv\"\n",
    "df = pd.read_csv(path, index_col=0)\n",
    "\n",
    "print(len(df))\n",
    "aux_agreement = df.loc[df[\"aux_1\"] == df[\"aux_2\"]]\n",
    "label_agreement = df.loc[df[\"label_1\"] == df[\"label_2\"]]\n",
    "group_agreement = df.loc[(df[\"aux_1\"] == df[\"aux_2\"]) & (df[\"label_1\"] == df[\"label_2\"])]\n",
    "print(len(aux_agreement) / len(df))\n",
    "print(len(label_agreement) / len(df))\n",
    "print(len(group_agreement) / len(df))"
   ]
  },
  {
   "cell_type": "markdown",
   "metadata": {},
   "source": [
    "# Pairs Distribution"
   ]
  },
  {
   "cell_type": "code",
   "execution_count": null,
   "metadata": {},
   "outputs": [],
   "source": [
    "import numpy as np\n",
    "import matplotlib.pyplot as plt\n",
    "import pandas as pd\n",
    "\n",
    "def get_unbalanced_distribution(plot=False, num_groups=20):\n",
    "    np.random.seed(1)\n",
    "    # dist_first_half = np.random.uniform(low=0.1, high=0.5, size=num_classes//2)\n",
    "    # dist_second_half = np.random.uniform(low=0.5, high=1.0, size=num_classes//2)\n",
    "    dist_first_half = np.ones(num_groups//2) * 0.2\n",
    "    dist_second_half = np.ones(num_groups//2) * 0.8\n",
    "    dist = np.concatenate([dist_first_half, dist_second_half])\n",
    "    if plot:\n",
    "        fig = plt.figure(figsize=(30, 10))\n",
    "        plt.bar(x=range(len(dist)), height=dist, color=[\"green\" for i in range(10)] + [\"blue\" for i in range(10)])\n",
    "    return dist / sum(dist)\n",
    "\n",
    "def get_pairs_sample_distribution(df, plot=False, sample=\"P\"):\n",
    "    group_cnt = np.zeros(20)\n",
    "    for i in range(len(df)):\n",
    "        group = int(df.loc[i, \"aux_1\"])\n",
    "        group_cnt[group] += 1\n",
    "    group_dist = group_cnt / len(df)\n",
    "    if plot:\n",
    "        fig = plt.figure(figsize=(30, 10))\n",
    "        plt.bar(x=range(20), height=group_dist)\n",
    "    return group_dist\n",
    "\n",
    "pairs_path = \"/gscratch/cse/lee0618/cifar-100/meta/pairs.csv\"\n",
    "unbalanced_pairs_path = \"/gscratch/cse/lee0618/cifar-100/meta/unb_pairs.csv\"\n",
    "\n",
    "get_pairs_sample_distribution(pd.read_csv(pairs_path, index_col=0), plot=True)\n",
    "unbalanced_pairs_dist = get_pairs_sample_distribution(pd.read_csv(unbalanced_pairs_path, index_col=0))\n",
    "sample_dist = get_unbalanced_distribution()\n",
    "width = 0.4\n",
    "x = np.arange(20)\n",
    "fig, ax = plt.subplots(layout=\"constrained\", figsize=(30, 10))\n",
    "rects = ax.bar(x=x, \n",
    "              height=unbalanced_pairs_dist, \n",
    "              width=width, \n",
    "              label=\"Pairs distribution\")\n",
    "ax.bar_label(rects, padding=3)\n",
    "rects = ax.bar(x=x+width,\n",
    "               height=sample_dist,\n",
    "               width=width,\n",
    "               label=\"Sample distribution\")\n",
    "ax.bar_label(rects, padding=3)\n",
    "ax.legend(loc='upper left', prop={'size': 25})"
   ]
  },
  {
   "cell_type": "markdown",
   "metadata": {},
   "source": [
    "# Correlation between distance and pair agreement"
   ]
  },
  {
   "cell_type": "code",
   "execution_count": 5,
   "metadata": {},
   "outputs": [
    {
     "name": "stdout",
     "output_type": "stream",
     "text": [
      "Correlation = -0.8263033192551323\n"
     ]
    }
   ],
   "source": [
    "import pandas as pd\n",
    "from tqdm import tqdm\n",
    "import numpy as np\n",
    "import matplotlib.pyplot as plt\n",
    "\n",
    "path = \"/gscratch/cse/lee0618/cifar-100/meta/pairs.csv\"\n",
    "df = pd.read_csv(path, index_col=0)\n",
    "\n",
    "def plot_err_bar(agreement, dist, plot=True):\n",
    "    \"\"\"\n",
    "    Plot the correlation between distance and label agreement\n",
    "    Return agreement rate\n",
    "\n",
    "    :param np.ndarray agreement: A 1-0 numpy array indicating agreement boolean\n",
    "    :param np.ndarray dist: A numpy array with distances with the same length of agreement\n",
    "    \"\"\"\n",
    "    agree_dist = dist.compress(agreement, axis=0)\n",
    "    disagree_dist = dist.compress(1-agreement, axis=0)\n",
    "    # print(f\"Correlation = {cor[0][1]}\")\n",
    "    if plot:\n",
    "        fig = plt.figure(figsize=(5, 8))\n",
    "        y_means = np.array([np.mean(disagree_dist), np.mean(agree_dist)])\n",
    "        y_stds = np.array([np.std(disagree_dist), np.std(agree_dist)])\n",
    "        plt.scatter(x=np.zeros(len(disagree_dist)), y=disagree_dist, alpha=0.5, facecolor='none', s=30, edgecolor='tab:orange')\n",
    "        plt.scatter(x=np.ones(len(agree_dist)), y=agree_dist, alpha=0.5, facecolor='none', s=30, edgecolor='tab:blue')\n",
    "        plt.errorbar([0, 1], y_means, yerr=y_stds, fmt='s', capsize=10, color=\"black\")\n",
    "        plt.xticks([0, 1], ['Disagree', 'Agree'])\n",
    "        plt.ylabel('Distance')\n",
    "        plt.xlim(-0.5, 1.5)\n",
    "        plt.grid(True)\n",
    "    # print(f\"Agreement rate: {np.sum(agreement) / len(agreement)}\")\n",
    "    return (np.sum(agreement) / len(agreement))\n",
    "\n",
    "def correlation(agreement, dist):\n",
    "    cor = np.corrcoef(x=np.stack([dist, agreement]))\n",
    "    return cor[0][1]\n",
    "\n",
    "def group_agreement_rate(df, group):\n",
    "    group_df = df.loc[df[\"aux_1\"] == group]\n",
    "    agreement = np.array(group_df[\"aux_1\"] == group_df[\"aux_2\"]).astype(int)\n",
    "    dist = np.array(group_df[\"dist\"])\n",
    "    r = plot_err_bar(agreement, dist, plot=False)\n",
    "    c = correlation(agreement, dist)\n",
    "    return c, r\n",
    "\n",
    "def group_max_dist(df, group):\n",
    "    group_df = df.loc[df[\"aux_1\"] == group]\n",
    "    return np.array(group_df[\"dist\"]).max()\n",
    "\n",
    "def filter_by_dist(df, dist):\n",
    "    sub_df = df.loc[df[\"dist\"] < dist]\n",
    "    return pd.DataFrame(sub_df)\n",
    "\n",
    "# label_agreement = np.array(df[\"label_1\"] == df[\"label_2\"]).astype(int)\n",
    "# dist = np.array(df[\"dist\"])\n",
    "# plot_err_bar(label_agreement, dist)\n",
    "corrs = []\n",
    "agreement_rates = []\n",
    "for i in range(20):\n",
    "    c, r = group_agreement_rate(df, i)\n",
    "    corrs.append(c)\n",
    "    agreement_rates.append(r)\n",
    "cor = np.corrcoef(x=np.stack([np.array(corrs), np.array(agreement_rates)]))\n",
    "print(f\"Correlation = {cor[0][1]}\")"
   ]
  }
 ],
 "metadata": {
  "kernelspec": {
   "display_name": "Python 3",
   "language": "python",
   "name": "python3"
  },
  "language_info": {
   "codemirror_mode": {
    "name": "ipython",
    "version": 3
   },
   "file_extension": ".py",
   "mimetype": "text/x-python",
   "name": "python",
   "nbconvert_exporter": "python",
   "pygments_lexer": "ipython3",
   "version": "3.10.13"
  }
 },
 "nbformat": 4,
 "nbformat_minor": 2
}
