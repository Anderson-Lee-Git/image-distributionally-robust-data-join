{
 "cells": [
  {
   "cell_type": "code",
   "execution_count": 11,
   "metadata": {},
   "outputs": [
    {
     "name": "stdout",
     "output_type": "stream",
     "text": [
      "70658\n",
      "0.7442752413031787\n",
      "0.63193127459028\n",
      "    Unnamed: 0      id_1        id_2  label_1  label_2  superclass_1  \\\n",
      "1            1  19_1.jpg  41_337.jpg       19       41            11   \n",
      "17          17  23_1.jpg  69_283.jpg       23       69            10   \n",
      "26          26  17_1.jpg  37_354.jpg       17       37            11   \n",
      "30          30  39_2.jpg   9_220.jpg       39        9             5   \n",
      "31          31  39_2.jpg  16_234.jpg       39       16             5   \n",
      "\n",
      "    superclass_2  \n",
      "1             19  \n",
      "17            19  \n",
      "26             9  \n",
      "30             8  \n",
      "31             3  \n"
     ]
    }
   ],
   "source": [
    "import pandas as pd\n",
    "from tqdm import tqdm\n",
    "\n",
    "path = \"/gscratch/cse/lee0618/cifar-100/meta/pairs.csv\"\n",
    "df = pd.read_csv(path)\n",
    "\n",
    "md_path = \"/gscratch/cse/lee0618/cifar-100/meta/train.csv\"\n",
    "md = pd.read_csv(md_path)\n",
    "\n",
    "print(len(df))\n",
    "superclass_agreement = df.loc[df[\"superclass_1\"] == df[\"superclass_2\"]]\n",
    "label_agreement = df.loc[df[\"label_1\"] == df[\"label_2\"]]\n",
    "print(len(superclass_agreement) / len(df)) # 0.73 (k = 4), 0.739 (k = 3), 0.744 (k = 2), 0.753 (k = 1)\n",
    "print(len(label_agreement) / len(df)) # 0.62 (k = 4), 0.625 (k = 3), 0.63 (k = 2), 0.643 (k = 1)\n",
    "\n",
    "print(df.loc[df[\"superclass_1\"] != df[\"superclass_2\"]].head())"
   ]
  }
 ],
 "metadata": {
  "kernelspec": {
   "display_name": "Python 3",
   "language": "python",
   "name": "python3"
  },
  "language_info": {
   "codemirror_mode": {
    "name": "ipython",
    "version": 3
   },
   "file_extension": ".py",
   "mimetype": "text/x-python",
   "name": "python",
   "nbconvert_exporter": "python",
   "pygments_lexer": "ipython3",
   "version": "3.10.13"
  }
 },
 "nbformat": 4,
 "nbformat_minor": 2
}
