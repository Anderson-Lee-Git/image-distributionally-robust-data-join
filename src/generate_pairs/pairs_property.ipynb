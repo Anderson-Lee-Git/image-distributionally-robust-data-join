{
 "cells": [
  {
   "cell_type": "code",
   "execution_count": 1,
   "metadata": {},
   "outputs": [
    {
     "name": "stdout",
     "output_type": "stream",
     "text": [
      "79609\n",
      "0.08220176110741248\n",
      "0.025889032647062517\n",
      "   Unnamed: 0      id_1        id_2  label_1  label_2  superclass_1  \\\n",
      "0           0  19_1.jpg  27_376.jpg       19       27            11   \n",
      "1           1  19_1.jpg  78_262.jpg       19       78            11   \n",
      "2           2  29_1.jpg  23_344.jpg       29       23            15   \n",
      "3           3  29_1.jpg   8_269.jpg       29        8            15   \n",
      "4           4   0_1.jpg  63_238.jpg        0       63             4   \n",
      "\n",
      "   superclass_2  \n",
      "0            15  \n",
      "1            15  \n",
      "2            10  \n",
      "3            18  \n",
      "4            12  \n"
     ]
    }
   ],
   "source": [
    "import pandas as pd\n",
    "from tqdm import tqdm\n",
    "\n",
    "path = \"/gscratch/jamiemmt/andersonlee/image-distributionally-robust-data-join/src/generate_pairs/test_pairs.csv\"\n",
    "df = pd.read_csv(path)\n",
    "\n",
    "md_path = \"/gscratch/cse/lee0618/cifar-100/meta/train.csv\"\n",
    "md = pd.read_csv(md_path)\n",
    "\n",
    "print(len(df))\n",
    "superclass_agreement = df.loc[df[\"superclass_1\"] == df[\"superclass_2\"]]\n",
    "label_agreement = df.loc[df[\"label_1\"] == df[\"label_2\"]]\n",
    "print(len(superclass_agreement) / len(df)) # 0.73 (k = 4), 0.739 (k = 3), 0.744 (k = 2), 0.753 (k = 1)\n",
    "print(len(label_agreement) / len(df)) # 0.62 (k = 4), 0.625 (k = 3), 0.63 (k = 2), 0.643 (k = 1)\n",
    "\n",
    "print(df.loc[df[\"superclass_1\"] != df[\"superclass_2\"]].head())"
   ]
  }
 ],
 "metadata": {
  "kernelspec": {
   "display_name": "Python 3",
   "language": "python",
   "name": "python3"
  },
  "language_info": {
   "codemirror_mode": {
    "name": "ipython",
    "version": 3
   },
   "file_extension": ".py",
   "mimetype": "text/x-python",
   "name": "python",
   "nbconvert_exporter": "python",
   "pygments_lexer": "ipython3",
   "version": "3.10.13"
  }
 },
 "nbformat": 4,
 "nbformat_minor": 2
}
