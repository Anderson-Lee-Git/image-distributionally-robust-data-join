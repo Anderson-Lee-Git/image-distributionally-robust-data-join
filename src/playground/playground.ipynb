{
 "cells": [
  {
   "cell_type": "code",
   "execution_count": 1,
   "metadata": {},
   "outputs": [
    {
     "data": {
      "text/plain": [
       "{'aquatic_mammals': [4, 30, 55, 72, 95],\n",
       " 'fish': [1, 32, 67, 73, 91],\n",
       " 'flowers': [54, 62, 70, 82, 92],\n",
       " 'food_containers': [9, 10, 16, 28, 61],\n",
       " 'fruit_and_vegetables': [0, 51, 53, 57, 83],\n",
       " 'household_electrical_devices': [22, 39, 40, 86, 87],\n",
       " 'household_furniture': [5, 20, 25, 84, 94],\n",
       " 'insects': [6, 7, 14, 18, 24],\n",
       " 'large_carnivores': [3, 42, 43, 88, 97],\n",
       " 'large_man-made_outdoor_things': [12, 17, 37, 68, 76],\n",
       " 'large_natural_outdoor_scenes': [23, 33, 49, 60, 71],\n",
       " 'large_omnivores_and_herbivores': [15, 19, 21, 31, 38],\n",
       " 'medium-sized_mammals': [34, 63, 64, 66, 75],\n",
       " 'non-insect_invertebrates': [26, 45, 77, 78, 99],\n",
       " 'people': [2, 11, 35, 46, 98],\n",
       " 'reptiles': [27, 29, 44, 78, 93],\n",
       " 'small_mammals': [36, 50, 65, 74, 80],\n",
       " 'trees': [47, 52, 56, 59, 96],\n",
       " 'vehicles_1': [8, 13, 48, 58, 90],\n",
       " 'vehicles_2': [41, 69, 81, 85, 89]}"
      ]
     },
     "execution_count": 1,
     "metadata": {},
     "output_type": "execute_result"
    }
   ],
   "source": [
    "{\n",
    "  \"aquatic_mammals\": [4, 30, 55, 72, 95],\n",
    "  \"fish\": [1, 32, 67, 73, 91],\n",
    "  \"flowers\": [54, 62, 70, 82, 92],\n",
    "  \"food_containers\": [9, 10, 16, 28, 61],\n",
    "  \"fruit_and_vegetables\": [0, 51, 53, 57, 83],\n",
    "  \"household_electrical_devices\": [22, 39, 40, 86, 87],\n",
    "  \"household_furniture\": [5, 20, 25, 84, 94],\n",
    "  \"insects\": [6, 7, 14, 18, 24],\n",
    "  \"large_carnivores\": [3, 42, 43, 88, 97],\n",
    "  \"large_man-made_outdoor_things\": [12, 17, 37, 68, 76],\n",
    "  \"large_natural_outdoor_scenes\": [23, 33, 49, 60, 71],\n",
    "  \"large_omnivores_and_herbivores\": [15, 19, 21, 31, 38],\n",
    "  \"medium-sized_mammals\": [34, 63, 64, 66, 75],\n",
    "  \"non-insect_invertebrates\": [26, 45, 77, 78, 99],\n",
    "  \"people\": [2, 11, 35, 46, 98],\n",
    "  \"reptiles\": [27, 29, 44, 78, 93],\n",
    "  \"small_mammals\": [36, 50, 65, 74, 80],\n",
    "  \"trees\": [47, 52, 56, 59, 96],\n",
    "  \"vehicles_1\": [8, 13, 48, 58, 90],\n",
    "  \"vehicles_2\": [41, 69, 81, 85, 89]\n",
    "}"
   ]
  },
  {
   "cell_type": "code",
   "execution_count": 2,
   "metadata": {},
   "outputs": [
    {
     "name": "stdout",
     "output_type": "stream",
     "text": [
      "138250\n",
      "0.7347269439421338\n",
      "0.6201591320072333\n"
     ]
    }
   ],
   "source": [
    "import pandas as pd\n",
    "from tqdm import tqdm\n",
    "\n",
    "path = \"/gscratch/cse/lee0618/cifar-100/meta/pairs.csv\"\n",
    "df = pd.read_csv(path)\n",
    "\n",
    "md_path = \"/gscratch/cse/lee0618/cifar-100/meta/train.csv\"\n",
    "md = pd.read_csv(md_path)\n",
    "\n",
    "print(len(df))\n",
    "superclass_agreement = df.loc[df[\"superclass_1\"] == df[\"superclass_2\"]]\n",
    "label_agreement = df.loc[df[\"label_1\"] == df[\"label_2\"]]\n",
    "# for i in tqdm(range(len(df))):\n",
    "#     assert md.loc[md[\"id\"] == df.loc[i, \"id_1\"]].iloc[0][\"group\"] == 1\n",
    "#     assert md.loc[md[\"id\"] == df.loc[i, \"id_2\"]].iloc[0][\"group\"] == 2\n",
    "print(len(superclass_agreement) / len(df))\n",
    "print(len(label_agreement) / len(df))"
   ]
  },
  {
   "cell_type": "code",
   "execution_count": 4,
   "metadata": {},
   "outputs": [
    {
     "name": "stdout",
     "output_type": "stream",
     "text": [
      "torch.Size([2, 2048, 7, 7])\n",
      "torch.Size([2, 2048, 1, 1])\n"
     ]
    },
    {
     "data": {
      "text/plain": [
       "tensor([[ 1.2813e+00, -2.9571e+00,  6.6158e-01, -1.2060e+00, -1.5886e+00,\n",
       "         -2.1522e-01, -9.2093e-01, -3.7148e-01,  2.2315e+00,  9.3347e-01,\n",
       "         -3.0956e-01,  2.3489e+00, -1.3072e+00, -4.3904e+00,  2.2242e+00,\n",
       "         -5.4975e-01, -3.0329e-01, -1.2797e+00,  1.4816e+00, -1.0300e+00,\n",
       "          1.8652e+00,  1.4706e+00, -9.5255e-01,  4.4246e-01, -2.2785e-02,\n",
       "          1.1444e+00, -6.2914e-01, -2.2332e+00, -5.3125e-01,  1.0125e+00,\n",
       "          6.5147e-01,  7.6569e-01, -7.9201e-01,  1.4220e+00, -7.5579e-01,\n",
       "          6.9312e-01, -4.3726e-01,  5.1090e-01,  1.0528e+00, -1.1137e+00,\n",
       "          5.5941e-01, -1.8125e+00,  1.3415e-01,  2.7232e-01,  4.9868e-01,\n",
       "         -1.5633e+00, -7.0223e-02, -5.3900e-03,  4.8588e-01,  1.3900e+00,\n",
       "          4.3117e-01,  1.9867e+00, -1.4902e+00,  4.8150e-01, -7.1117e-01,\n",
       "         -4.6741e-01, -3.2917e-01, -1.5299e+00,  1.6215e+00, -2.1221e+00,\n",
       "         -4.5868e-01,  2.9233e+00,  9.1697e-01,  6.4795e-02, -8.8701e-01,\n",
       "          9.3192e-01,  1.9998e-01, -1.7102e+00, -2.5415e-02, -1.0313e+00,\n",
       "         -3.3922e-01,  1.1751e+00, -5.8316e-01,  2.6090e-01,  4.4412e-01,\n",
       "         -1.2781e+00,  9.1880e-01,  1.8935e+00,  1.1295e-01, -1.0520e+00,\n",
       "          8.1979e-01, -9.6100e-01, -8.9943e-01, -5.1002e-01, -1.1001e+00,\n",
       "         -9.1176e-01,  1.8153e-01,  3.1380e-02,  1.1680e-01,  1.4891e+00,\n",
       "         -3.8440e-01, -2.7950e+00, -4.5434e-03, -1.7073e-01, -2.0502e+00,\n",
       "          6.2572e-01, -1.4148e+00,  1.1267e+00, -1.6863e+00,  9.3148e-01],\n",
       "        [ 1.3146e+00, -3.1742e+00,  1.2815e+00, -1.5224e+00, -1.1660e+00,\n",
       "         -1.9204e-01, -1.3085e+00, -8.3059e-01,  2.0037e+00,  1.3393e+00,\n",
       "         -2.5760e-01,  2.5798e+00, -1.0239e+00, -4.6204e+00,  2.0306e+00,\n",
       "         -1.9394e-02, -3.4033e-01, -1.3118e+00,  1.5635e+00, -7.7120e-01,\n",
       "          1.8074e+00,  1.4470e+00, -1.4957e+00,  3.1353e-01, -4.8851e-03,\n",
       "          1.0538e+00, -1.1199e+00, -2.1059e+00, -5.3404e-01,  7.0780e-01,\n",
       "          3.9090e-01,  7.7499e-01, -1.2000e+00,  1.9752e+00, -7.6382e-01,\n",
       "          6.7056e-01,  1.5365e-02,  1.5107e-01,  1.1270e+00, -1.1456e+00,\n",
       "          2.3879e-01, -2.1738e+00, -5.7651e-03,  2.3788e-01,  4.0679e-01,\n",
       "         -1.8225e+00, -3.9829e-01,  1.1313e-01,  5.2384e-01,  1.2607e+00,\n",
       "          2.0350e-01,  2.1900e+00, -1.7204e+00,  9.0265e-02, -1.2819e+00,\n",
       "         -5.8629e-01, -8.2999e-01, -1.5992e+00,  1.8694e+00, -2.5504e+00,\n",
       "         -6.6396e-01,  2.5815e+00,  9.6379e-01,  9.0667e-02, -1.5127e+00,\n",
       "          1.8267e-01,  2.8946e-01, -1.9674e+00,  3.3318e-01, -8.7874e-01,\n",
       "         -6.9950e-02,  1.0208e+00, -1.3841e-01,  6.2080e-01,  5.9773e-01,\n",
       "         -1.2278e+00,  4.6532e-01,  1.6836e+00, -2.9070e-01, -1.1292e+00,\n",
       "          4.8877e-01, -9.1859e-01, -1.0687e+00, -4.4316e-01, -8.6612e-01,\n",
       "         -1.2266e+00,  3.3436e-01, -2.9974e-01,  3.6090e-02,  1.6420e+00,\n",
       "         -7.4346e-01, -2.7146e+00, -1.6959e-01, -3.0704e-01, -2.6077e+00,\n",
       "          6.3566e-01, -8.8191e-01,  1.0880e+00, -1.7450e+00,  1.4959e+00]],\n",
       "       grad_fn=<AddmmBackward0>)"
      ]
     },
     "execution_count": 4,
     "metadata": {},
     "output_type": "execute_result"
    }
   ],
   "source": [
    "import os\n",
    "import sys\n",
    "import torch\n",
    "\n",
    "sys.path.insert(0, \"/gscratch/jamiemmt/andersonlee/image-distributionally-robust-data-join/src/models\")\n",
    "sys.path.insert(0, \"/gscratch/jamiemmt/andersonlee/image-distributionally-robust-data-join/src\")\n",
    "from models.resnet_autoencoder import ResNet, get_configs\n",
    "\n",
    "configs, bottleneck = get_configs()\n",
    "model = ResNet(configs=configs, bottleneck=bottleneck, num_classes=100, pretrained=False)\n",
    "\n",
    "x = torch.rand((2, 3, 224, 224))\n",
    "model(x)"
   ]
  }
 ],
 "metadata": {
  "kernelspec": {
   "display_name": "Python 3 (ipykernel)",
   "language": "python",
   "name": "python3"
  },
  "language_info": {
   "codemirror_mode": {
    "name": "ipython",
    "version": 3
   },
   "file_extension": ".py",
   "mimetype": "text/x-python",
   "name": "python",
   "nbconvert_exporter": "python",
   "pygments_lexer": "ipython3",
   "version": "3.10.13"
  },
  "orig_nbformat": 4
 },
 "nbformat": 4,
 "nbformat_minor": 2
}
