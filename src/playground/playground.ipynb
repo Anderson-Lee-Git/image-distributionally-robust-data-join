{
 "cells": [
  {
   "cell_type": "code",
   "execution_count": 1,
   "metadata": {},
   "outputs": [
    {
     "data": {
      "text/plain": [
       "{'aquatic_mammals': [4, 30, 55, 72, 95],\n",
       " 'fish': [1, 32, 67, 73, 91],\n",
       " 'flowers': [54, 62, 70, 82, 92],\n",
       " 'food_containers': [9, 10, 16, 28, 61],\n",
       " 'fruit_and_vegetables': [0, 51, 53, 57, 83],\n",
       " 'household_electrical_devices': [22, 39, 40, 86, 87],\n",
       " 'household_furniture': [5, 20, 25, 84, 94],\n",
       " 'insects': [6, 7, 14, 18, 24],\n",
       " 'large_carnivores': [3, 42, 43, 88, 97],\n",
       " 'large_man-made_outdoor_things': [12, 17, 37, 68, 76],\n",
       " 'large_natural_outdoor_scenes': [23, 33, 49, 60, 71],\n",
       " 'large_omnivores_and_herbivores': [15, 19, 21, 31, 38],\n",
       " 'medium-sized_mammals': [34, 63, 64, 66, 75],\n",
       " 'non-insect_invertebrates': [26, 45, 77, 78, 99],\n",
       " 'people': [2, 11, 35, 46, 98],\n",
       " 'reptiles': [27, 29, 44, 78, 93],\n",
       " 'small_mammals': [36, 50, 65, 74, 80],\n",
       " 'trees': [47, 52, 56, 59, 96],\n",
       " 'vehicles_1': [8, 13, 48, 58, 90],\n",
       " 'vehicles_2': [41, 69, 81, 85, 89]}"
      ]
     },
     "execution_count": 1,
     "metadata": {},
     "output_type": "execute_result"
    }
   ],
   "source": [
    "{\n",
    "  \"aquatic_mammals\": [4, 30, 55, 72, 95],\n",
    "  \"fish\": [1, 32, 67, 73, 91],\n",
    "  \"flowers\": [54, 62, 70, 82, 92],\n",
    "  \"food_containers\": [9, 10, 16, 28, 61],\n",
    "  \"fruit_and_vegetables\": [0, 51, 53, 57, 83],\n",
    "  \"household_electrical_devices\": [22, 39, 40, 86, 87],\n",
    "  \"household_furniture\": [5, 20, 25, 84, 94],\n",
    "  \"insects\": [6, 7, 14, 18, 24],\n",
    "  \"large_carnivores\": [3, 42, 43, 88, 97],\n",
    "  \"large_man-made_outdoor_things\": [12, 17, 37, 68, 76],\n",
    "  \"large_natural_outdoor_scenes\": [23, 33, 49, 60, 71],\n",
    "  \"large_omnivores_and_herbivores\": [15, 19, 21, 31, 38],\n",
    "  \"medium-sized_mammals\": [34, 63, 64, 66, 75],\n",
    "  \"non-insect_invertebrates\": [26, 45, 77, 78, 99],\n",
    "  \"people\": [2, 11, 35, 46, 98],\n",
    "  \"reptiles\": [27, 29, 44, 78, 93],\n",
    "  \"small_mammals\": [36, 50, 65, 74, 80],\n",
    "  \"trees\": [47, 52, 56, 59, 96],\n",
    "  \"vehicles_1\": [8, 13, 48, 58, 90],\n",
    "  \"vehicles_2\": [41, 69, 81, 85, 89]\n",
    "}"
   ]
  },
  {
   "cell_type": "code",
   "execution_count": 9,
   "metadata": {},
   "outputs": [
    {
     "name": "stdout",
     "output_type": "stream",
     "text": [
      "138250\n"
     ]
    },
    {
     "ename": "KeyboardInterrupt",
     "evalue": "",
     "output_type": "error",
     "traceback": [
      "\u001b[0;31m---------------------------------------------------------------------------\u001b[0m",
      "\u001b[0;31mKeyboardInterrupt\u001b[0m                         Traceback (most recent call last)",
      "\u001b[1;32m/gscratch/jamiemmt/andersonlee/image-distributionally-robust-data-join/src/playground/playground.ipynb Cell 2\u001b[0m line \u001b[0;36m1\n\u001b[1;32m     <a href='vscode-notebook-cell://ssh-remote%2Bklone1.hyak.uw.edu/gscratch/jamiemmt/andersonlee/image-distributionally-robust-data-join/src/playground/playground.ipynb#W1sdnNjb2RlLXJlbW90ZQ%3D%3D?line=11'>12</a>\u001b[0m label_agreement \u001b[39m=\u001b[39m df\u001b[39m.\u001b[39mloc[df[\u001b[39m\"\u001b[39m\u001b[39mlabel_1\u001b[39m\u001b[39m\"\u001b[39m] \u001b[39m==\u001b[39m df[\u001b[39m\"\u001b[39m\u001b[39mlabel_2\u001b[39m\u001b[39m\"\u001b[39m]]\n\u001b[1;32m     <a href='vscode-notebook-cell://ssh-remote%2Bklone1.hyak.uw.edu/gscratch/jamiemmt/andersonlee/image-distributionally-robust-data-join/src/playground/playground.ipynb#W1sdnNjb2RlLXJlbW90ZQ%3D%3D?line=12'>13</a>\u001b[0m \u001b[39mfor\u001b[39;00m i \u001b[39min\u001b[39;00m \u001b[39mrange\u001b[39m(\u001b[39mlen\u001b[39m(df)):\n\u001b[0;32m---> <a href='vscode-notebook-cell://ssh-remote%2Bklone1.hyak.uw.edu/gscratch/jamiemmt/andersonlee/image-distributionally-robust-data-join/src/playground/playground.ipynb#W1sdnNjb2RlLXJlbW90ZQ%3D%3D?line=13'>14</a>\u001b[0m     \u001b[39massert\u001b[39;00m md\u001b[39m.\u001b[39mloc[md[\u001b[39m\"\u001b[39;49m\u001b[39mid\u001b[39;49m\u001b[39m\"\u001b[39;49m] \u001b[39m==\u001b[39;49m df\u001b[39m.\u001b[39;49mloc[i, \u001b[39m\"\u001b[39;49m\u001b[39mid_1\u001b[39;49m\u001b[39m\"\u001b[39;49m]]\u001b[39m.\u001b[39miloc[\u001b[39m0\u001b[39m][\u001b[39m\"\u001b[39m\u001b[39mgroup\u001b[39m\u001b[39m\"\u001b[39m] \u001b[39m==\u001b[39m \u001b[39m1\u001b[39m\n\u001b[1;32m     <a href='vscode-notebook-cell://ssh-remote%2Bklone1.hyak.uw.edu/gscratch/jamiemmt/andersonlee/image-distributionally-robust-data-join/src/playground/playground.ipynb#W1sdnNjb2RlLXJlbW90ZQ%3D%3D?line=14'>15</a>\u001b[0m     \u001b[39massert\u001b[39;00m md\u001b[39m.\u001b[39mloc[md[\u001b[39m\"\u001b[39m\u001b[39mid\u001b[39m\u001b[39m\"\u001b[39m] \u001b[39m==\u001b[39m df\u001b[39m.\u001b[39mloc[i, \u001b[39m\"\u001b[39m\u001b[39mid_2\u001b[39m\u001b[39m\"\u001b[39m]]\u001b[39m.\u001b[39miloc[\u001b[39m0\u001b[39m][\u001b[39m\"\u001b[39m\u001b[39mgroup\u001b[39m\u001b[39m\"\u001b[39m] \u001b[39m==\u001b[39m \u001b[39m2\u001b[39m\n\u001b[1;32m     <a href='vscode-notebook-cell://ssh-remote%2Bklone1.hyak.uw.edu/gscratch/jamiemmt/andersonlee/image-distributionally-robust-data-join/src/playground/playground.ipynb#W1sdnNjb2RlLXJlbW90ZQ%3D%3D?line=15'>16</a>\u001b[0m \u001b[39mprint\u001b[39m(\u001b[39mlen\u001b[39m(superclass_agreement) \u001b[39m/\u001b[39m \u001b[39mlen\u001b[39m(df))\n",
      "File \u001b[0;32m/gscratch/jamiemmt/andersonlee/image-distributionally-robust-data-join/env/lib/python3.10/site-packages/pandas/core/ops/common.py:76\u001b[0m, in \u001b[0;36m_unpack_zerodim_and_defer.<locals>.new_method\u001b[0;34m(self, other)\u001b[0m\n\u001b[1;32m     72\u001b[0m             \u001b[39mreturn\u001b[39;00m \u001b[39mNotImplemented\u001b[39m\n\u001b[1;32m     74\u001b[0m other \u001b[39m=\u001b[39m item_from_zerodim(other)\n\u001b[0;32m---> 76\u001b[0m \u001b[39mreturn\u001b[39;00m method(\u001b[39mself\u001b[39;49m, other)\n",
      "File \u001b[0;32m/gscratch/jamiemmt/andersonlee/image-distributionally-robust-data-join/env/lib/python3.10/site-packages/pandas/core/arraylike.py:40\u001b[0m, in \u001b[0;36mOpsMixin.__eq__\u001b[0;34m(self, other)\u001b[0m\n\u001b[1;32m     38\u001b[0m \u001b[39m@unpack_zerodim_and_defer\u001b[39m(\u001b[39m\"\u001b[39m\u001b[39m__eq__\u001b[39m\u001b[39m\"\u001b[39m)\n\u001b[1;32m     39\u001b[0m \u001b[39mdef\u001b[39;00m \u001b[39m__eq__\u001b[39m(\u001b[39mself\u001b[39m, other):\n\u001b[0;32m---> 40\u001b[0m     \u001b[39mreturn\u001b[39;00m \u001b[39mself\u001b[39;49m\u001b[39m.\u001b[39;49m_cmp_method(other, operator\u001b[39m.\u001b[39;49meq)\n",
      "File \u001b[0;32m/gscratch/jamiemmt/andersonlee/image-distributionally-robust-data-join/env/lib/python3.10/site-packages/pandas/core/series.py:5799\u001b[0m, in \u001b[0;36mSeries._cmp_method\u001b[0;34m(self, other, op)\u001b[0m\n\u001b[1;32m   5796\u001b[0m lvalues \u001b[39m=\u001b[39m \u001b[39mself\u001b[39m\u001b[39m.\u001b[39m_values\n\u001b[1;32m   5797\u001b[0m rvalues \u001b[39m=\u001b[39m extract_array(other, extract_numpy\u001b[39m=\u001b[39m\u001b[39mTrue\u001b[39;00m, extract_range\u001b[39m=\u001b[39m\u001b[39mTrue\u001b[39;00m)\n\u001b[0;32m-> 5799\u001b[0m res_values \u001b[39m=\u001b[39m ops\u001b[39m.\u001b[39;49mcomparison_op(lvalues, rvalues, op)\n\u001b[1;32m   5801\u001b[0m \u001b[39mreturn\u001b[39;00m \u001b[39mself\u001b[39m\u001b[39m.\u001b[39m_construct_result(res_values, name\u001b[39m=\u001b[39mres_name)\n",
      "File \u001b[0;32m/gscratch/jamiemmt/andersonlee/image-distributionally-robust-data-join/env/lib/python3.10/site-packages/pandas/core/ops/array_ops.py:346\u001b[0m, in \u001b[0;36mcomparison_op\u001b[0;34m(left, right, op)\u001b[0m\n\u001b[1;32m    343\u001b[0m     \u001b[39mreturn\u001b[39;00m invalid_comparison(lvalues, rvalues, op)\n\u001b[1;32m    345\u001b[0m \u001b[39melif\u001b[39;00m lvalues\u001b[39m.\u001b[39mdtype \u001b[39m==\u001b[39m \u001b[39mobject\u001b[39m \u001b[39mor\u001b[39;00m \u001b[39misinstance\u001b[39m(rvalues, \u001b[39mstr\u001b[39m):\n\u001b[0;32m--> 346\u001b[0m     res_values \u001b[39m=\u001b[39m comp_method_OBJECT_ARRAY(op, lvalues, rvalues)\n\u001b[1;32m    348\u001b[0m \u001b[39melse\u001b[39;00m:\n\u001b[1;32m    349\u001b[0m     res_values \u001b[39m=\u001b[39m _na_arithmetic_op(lvalues, rvalues, op, is_cmp\u001b[39m=\u001b[39m\u001b[39mTrue\u001b[39;00m)\n",
      "File \u001b[0;32m/gscratch/jamiemmt/andersonlee/image-distributionally-robust-data-join/env/lib/python3.10/site-packages/pandas/core/ops/array_ops.py:131\u001b[0m, in \u001b[0;36mcomp_method_OBJECT_ARRAY\u001b[0;34m(op, x, y)\u001b[0m\n\u001b[1;32m    129\u001b[0m     result \u001b[39m=\u001b[39m libops\u001b[39m.\u001b[39mvec_compare(x\u001b[39m.\u001b[39mravel(), y\u001b[39m.\u001b[39mravel(), op)\n\u001b[1;32m    130\u001b[0m \u001b[39melse\u001b[39;00m:\n\u001b[0;32m--> 131\u001b[0m     result \u001b[39m=\u001b[39m libops\u001b[39m.\u001b[39;49mscalar_compare(x\u001b[39m.\u001b[39;49mravel(), y, op)\n\u001b[1;32m    132\u001b[0m \u001b[39mreturn\u001b[39;00m result\u001b[39m.\u001b[39mreshape(x\u001b[39m.\u001b[39mshape)\n",
      "\u001b[0;31mKeyboardInterrupt\u001b[0m: "
     ]
    }
   ],
   "source": [
    "import pandas as pd\n",
    "from tqdm import tqdm\n",
    "\n",
    "path = \"/gscratch/cse/lee0618/cifar-100/meta/pairs.csv\"\n",
    "df = pd.read_csv(path)\n",
    "\n",
    "md_path = \"/gscratch/cse/lee0618/cifar-100/meta/train.csv\"\n",
    "md = pd.read_csv(md_path)\n",
    "\n",
    "print(len(df))\n",
    "superclass_agreement = df.loc[df[\"superclass_1\"] == df[\"superclass_2\"]]\n",
    "label_agreement = df.loc[df[\"label_1\"] == df[\"label_2\"]]\n",
    "for i in tqdm(range(len(df))):\n",
    "    assert md.loc[md[\"id\"] == df.loc[i, \"id_1\"]].iloc[0][\"group\"] == 1\n",
    "    assert md.loc[md[\"id\"] == df.loc[i, \"id_2\"]].iloc[0][\"group\"] == 2\n",
    "print(len(superclass_agreement) / len(df))\n",
    "print(len(label_agreement) / len(df))"
   ]
  }
 ],
 "metadata": {
  "kernelspec": {
   "display_name": "Python 3 (ipykernel)",
   "language": "python",
   "name": "python3"
  },
  "language_info": {
   "codemirror_mode": {
    "name": "ipython",
    "version": 3
   },
   "file_extension": ".py",
   "mimetype": "text/x-python",
   "name": "python",
   "nbconvert_exporter": "python",
   "pygments_lexer": "ipython3",
   "version": "3.10.13"
  },
  "orig_nbformat": 4
 },
 "nbformat": 4,
 "nbformat_minor": 2
}
